{
 "cells": [
  {
   "cell_type": "markdown",
   "id": "79b35b53-57bb-4065-bc0a-2f2c8a2f62cf",
   "metadata": {},
   "source": [
    "插入图片\n",
    "# Integrating LLM-Derived Multi-Semantic Intent into Graph Model for Session-based Recommendation\n",
    "## abstract\n",
    "Session-based recommendation (SBR) is mainly based on anonymous user interaction sequences to recommend the items that the next user is most likely to click.  Currently, the most popular and high-performing SBR methods primarily leverage graph neural networks (GNNs), which model session sequences as graph-structured data to effectively capture user intent. However, most GNNs-based SBR methods primarily focus on modeling the ID sequence information of session sequences, while neglecting the rich semantic information embedded within them. This limitation significantly hampers model's ability to accurately infer users' true intention. To address above challenge, this paper proposes a novel SBR approach called Integrating LLM-Derived Multi-Semantic Intent into Graph Model for Session-based Recommendation ( LLM-DMsRec). The method utilizes a pre-trained GNN model to select the top-k items as candidate item sets and designs prompts along with a large language model (LLM) to infer multi-semantic intents from these candidate items. Specifically, we propose an alignment mechanism that effectively integrates the semantic intent inferred by the LLM with the structural intent captured by GNNs. Extensive experiments conducted on the Beauty and ML-1M datasets demonstrate that the proposed method can be seamlessly integrated into GNNs framework, significantly enhancing its recommendation performance.\n",
    "\n",
    "## dataset\n",
    "### beauty(2014)\n",
    " https://jmcauley.ucsd.edu/data/amazon/links.html\n",
    "### ml-1m\n",
    " https://grouplens.org/datasets/movielens/\n",
    "\n",
    "## LLM(Qwen2.5-7B)\n",
    " https://huggingface.co/Qwen/Qwen2.5-7B-Instruct\n",
    "\n",
    "## train\n",
    "1. pre-train GNN获取候选项目集\n",
    "3. LLM推理用户意图\n",
    "   cd dataset\n",
    "   main infer_intent.py\n",
    "5. GNN训练\n",
    "   ()\n",
    "\n",
    "## test"
   ]
  },
  {
   "cell_type": "code",
   "execution_count": null,
   "id": "0ef1f9a7-c9ce-40c7-baa2-cd0ee8611c4e",
   "metadata": {},
   "outputs": [],
   "source": []
  }
 ],
 "metadata": {
  "kernelspec": {
   "display_name": "Python 3 (ipykernel)",
   "language": "python",
   "name": "python3"
  },
  "language_info": {
   "codemirror_mode": {
    "name": "ipython",
    "version": 3
   },
   "file_extension": ".py",
   "mimetype": "text/x-python",
   "name": "python",
   "nbconvert_exporter": "python",
   "pygments_lexer": "ipython3",
   "version": "3.12.4"
  }
 },
 "nbformat": 4,
 "nbformat_minor": 5
}
